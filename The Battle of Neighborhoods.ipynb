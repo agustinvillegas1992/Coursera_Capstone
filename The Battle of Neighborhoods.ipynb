{
    "cells": [
        {
            "metadata": {},
            "cell_type": "markdown",
            "source": "# The Battle of Neighborhoods: Supply Analysis of Paddle Courts in Barcelona"
        },
        {
            "metadata": {},
            "cell_type": "markdown",
            "source": "### Description of the problem and a discussion of the background. "
        },
        {
            "metadata": {
                "collapsed": true
            },
            "cell_type": "markdown",
            "source": "INTRODUCTION\n\nBarcelona has scaled from the seventh to the fourth place in the world ranking of Sports Cities, which is once again led by New York and produced by the public relations and communications agency Burson Cohn & Wolfe (BCW).\nIn this context, paddle is the most practiced sport behind football, and it has the merit of having gained momentum in times of restrictions. Despite its national success, the great ambition of paddle continues to be its internationalization, since now it is not a sport spread worldwide, not even in Europe. However, something must have this sport for which many people claim it is not just a passing fad, especially in Catalonia, where licenses, clubs and practitioners skyrocket year after year, making the Catalan community the benchmark for the sport in Spain.\nPaddle has long ceased to be a fashion and it is already a reality that does not stop gaining followers of any sex and age throughout the territory. In Catalonia, the boom has been unstoppable, been the community with the most federative licenses in the country; 21.508, more than a quarter of the national total (75.818).\nThe interest and participation of women in paddle has been one of the determining factors in its growth. During the last year, female licenses have increased by 5.5%, representing 35.9% of the total licenses, gap that is closing rapidly.\nAnother key to understanding this growth lies in the fact that it is a discipline that can be practiced by people of every age. It is estimated that in the whole country there are 2.3 million assiduous practitioners, of which 52% say they practice it every week; 48% do it every month, and 945,000 people who play it sometime a year.\nThe social issue is another matter. The construction of new paddle courts with cheaper rates has given access to all budgets, although there is still a certain identification with the upper class that originally could afford to pay exorbitant prices, this have clearly been changing.\n\nBUSINESS PROBLEM\n\nSports clubs of Barcelona have not been aliened to the phenomenon of paddle and have been adapting their facilities to this new reality. Some of the most iconic clubs of the city, such as Real Club de Polo de Barcelona, David Lloyd Club Tur\u00f3, Club Esportiu Laiet\u00e0 or Bonasport, had progressively increased the number of available courts, in many cases, even to the detriment of tennis.\nHowever, the increase in the supply has not been able to offset the incredible growth in demand, which, in terms of practitioners and according to the president of the Catalan Paddle Federation, has increased at an annual rate of 20% since 2012.\nThis, together with the current restrictions caused by Covid-19, which prohibit the practice of other collective sports, such as football, have generated an excess demand for paddle courts. Although this can be a headache for all those practitioners who cannot find courts where to play, it is a unique opportunity for potential investors interested in the sector.\nThe question is \u00bfWhich is the ideal neighborhood to build a paddle venue in the city of Barcelona?"
        },
        {
            "metadata": {},
            "cell_type": "markdown",
            "source": "### Description of the data and how it will be used to solve the problem."
        },
        {
            "metadata": {},
            "cell_type": "markdown",
            "source": "DATA SECTION\n\nIn order to address the raised problem, we will need the following data:\n\n1. Paddle venues and courts in the city of Barcelona.\n\nSources: \n\n\u2022\tFoursquare API\n\u2022\tGoogle Places API\n\u2022\tCatalan Paddle Federation\n\nAs the information available in the Foursquare API is incomplete, we have used complementary data sources.\n\n2. GeoJson file of the city of Barcelona separated by neighborhood.\n\nSource:\n\n\u2022\tGonz\u00e1lez, Github, 2020\n\nWe will use the coordinates of Barcelona to create various choropleth maps on the different variables that will be part of the exploratory analysis.\n\n3. Neighborhood to which each paddle venue corresponds. \n\nSource:\n\n\u2022\tInteractive map of the City Council of Barcelona\n\nThe platform provides us the necessary information based on the venues\u2019 addresses.\n\n4. Population by neighborhood.\n\nSource:\n\n\u2022\tStatistical Yearbook of the city of Barcelona 2020\n\nThis will help us understand the paddle courts density by neighborhood.\n\n5. Housing Price Index by Neighborhood.\n\nSource:\n\n\u2022\tCity Council of Barcelona\n\nWe will use this variable as a proxy of the Land Price Index. It is relevant in terms of the investment analysis."
        },
        {
            "metadata": {},
            "cell_type": "code",
            "source": "",
            "execution_count": null,
            "outputs": []
        }
    ],
    "metadata": {
        "kernelspec": {
            "name": "python3",
            "display_name": "Python 3.7",
            "language": "python"
        },
        "language_info": {
            "name": "python",
            "version": "3.7.10",
            "mimetype": "text/x-python",
            "codemirror_mode": {
                "name": "ipython",
                "version": 3
            },
            "pygments_lexer": "ipython3",
            "nbconvert_exporter": "python",
            "file_extension": ".py"
        }
    },
    "nbformat": 4,
    "nbformat_minor": 1
}